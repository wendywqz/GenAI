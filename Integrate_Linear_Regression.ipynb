{
  "nbformat": 4,
  "nbformat_minor": 0,
  "metadata": {
    "colab": {
      "provenance": [],
      "history_visible": true,
      "authorship_tag": "ABX9TyMpL9v3frCjRvF21O6gyQ3d",
      "include_colab_link": true
    },
    "kernelspec": {
      "name": "python3",
      "display_name": "Python 3"
    },
    "language_info": {
      "name": "python"
    }
  },
  "cells": [
    {
      "cell_type": "markdown",
      "metadata": {
        "id": "view-in-github",
        "colab_type": "text"
      },
      "source": [
        "<a href=\"https://colab.research.google.com/github/wendywqz/GenAI/blob/main/Integrate_Linear_Regression.ipynb\" target=\"_parent\"><img src=\"https://colab.research.google.com/assets/colab-badge.svg\" alt=\"Open In Colab\"/></a>"
      ]
    },
    {
      "cell_type": "code",
      "execution_count": 1,
      "metadata": {
        "colab": {
          "base_uri": "https://localhost:8080/"
        },
        "id": "taq8MHYTh9Bh",
        "outputId": "4b177a0c-44fc-418e-c0ed-02baa02d7bf6"
      },
      "outputs": [
        {
          "output_type": "stream",
          "name": "stdout",
          "text": [
            "Requirement already satisfied: numpy in /usr/local/lib/python3.11/dist-packages (2.0.2)\n",
            "Requirement already satisfied: pandas in /usr/local/lib/python3.11/dist-packages (2.2.2)\n",
            "Requirement already satisfied: scikit-learn in /usr/local/lib/python3.11/dist-packages (1.6.1)\n",
            "Requirement already satisfied: matplotlib in /usr/local/lib/python3.11/dist-packages (3.10.0)\n",
            "Requirement already satisfied: python-dateutil>=2.8.2 in /usr/local/lib/python3.11/dist-packages (from pandas) (2.8.2)\n",
            "Requirement already satisfied: pytz>=2020.1 in /usr/local/lib/python3.11/dist-packages (from pandas) (2025.1)\n",
            "Requirement already satisfied: tzdata>=2022.7 in /usr/local/lib/python3.11/dist-packages (from pandas) (2025.1)\n",
            "Requirement already satisfied: scipy>=1.6.0 in /usr/local/lib/python3.11/dist-packages (from scikit-learn) (1.14.1)\n",
            "Requirement already satisfied: joblib>=1.2.0 in /usr/local/lib/python3.11/dist-packages (from scikit-learn) (1.4.2)\n",
            "Requirement already satisfied: threadpoolctl>=3.1.0 in /usr/local/lib/python3.11/dist-packages (from scikit-learn) (3.6.0)\n",
            "Requirement already satisfied: contourpy>=1.0.1 in /usr/local/lib/python3.11/dist-packages (from matplotlib) (1.3.1)\n",
            "Requirement already satisfied: cycler>=0.10 in /usr/local/lib/python3.11/dist-packages (from matplotlib) (0.12.1)\n",
            "Requirement already satisfied: fonttools>=4.22.0 in /usr/local/lib/python3.11/dist-packages (from matplotlib) (4.56.0)\n",
            "Requirement already satisfied: kiwisolver>=1.3.1 in /usr/local/lib/python3.11/dist-packages (from matplotlib) (1.4.8)\n",
            "Requirement already satisfied: packaging>=20.0 in /usr/local/lib/python3.11/dist-packages (from matplotlib) (24.2)\n",
            "Requirement already satisfied: pillow>=8 in /usr/local/lib/python3.11/dist-packages (from matplotlib) (11.1.0)\n",
            "Requirement already satisfied: pyparsing>=2.3.1 in /usr/local/lib/python3.11/dist-packages (from matplotlib) (3.2.1)\n",
            "Requirement already satisfied: six>=1.5 in /usr/local/lib/python3.11/dist-packages (from python-dateutil>=2.8.2->pandas) (1.17.0)\n"
          ]
        }
      ],
      "source": [
        "pip install numpy pandas scikit-learn matplotlib"
      ]
    },
    {
      "cell_type": "code",
      "source": [
        "#import necessary libraries\n",
        "import numpy as np # handle numberical and tabular data\n",
        "import pandas as pd\n",
        "from sklearn.model_selection import train_test_split\n",
        "from sklearn.linear_model import LinearRegression # build the targeted model\n",
        "from sklearn.metrics import mean_squared_error, r2_score\n",
        "import matplotlib.pyplot as plt # visualize the results"
      ],
      "metadata": {
        "id": "6N2ES4tRiZ2S"
      },
      "execution_count": 2,
      "outputs": []
    },
    {
      "cell_type": "code",
      "source": [
        "# Sample dataset (house prices based on square footage)\n",
        "data = {\n",
        "    'SquareFootage': [1500, 1800, 2400, 3000, 3500, 4000, 4500],\n",
        "    'Price': [200000, 250000, 300000, 350000, 400000, 500000, 600000]\n",
        "}\n",
        "# Convert to DataFrame\n",
        "df = pd.DataFrame(data)\n",
        "\n",
        "# Display the first few rows of the data\n",
        "print(df.head())"
      ],
      "metadata": {
        "colab": {
          "base_uri": "https://localhost:8080/"
        },
        "id": "PYWtLS-_jiYV",
        "outputId": "012cd953-6f54-4d37-fc30-1f6ca1d9ea07"
      },
      "execution_count": 10,
      "outputs": [
        {
          "output_type": "stream",
          "name": "stdout",
          "text": [
            "   SquareFootage   Price\n",
            "0           1500  200000\n",
            "1           1800  250000\n",
            "2           2400  300000\n",
            "3           3000  350000\n",
            "4           3500  400000\n"
          ]
        }
      ]
    },
    {
      "cell_type": "markdown",
      "source": [
        "# **Splitting the data inot training and testing set**"
      ],
      "metadata": {
        "id": "ijVGlJPXkp44"
      }
    },
    {
      "cell_type": "code",
      "source": [
        "# Features (X) and Target (y)\n",
        "X = df[['SquareFootage']]  # Feature(s)\n",
        "y = df['Price']            # Target variable\n",
        "\n",
        "# Split data into 80% training and 20% testing\n",
        "X_train, X_test, y_train, y_test = train_test_split(X, y, test_size=0.2, random_state=42)\n",
        "\n",
        "# Display the shape of the training and testing sets\n",
        "print(f\"Training data: {X_train.shape}, {y_train.shape}\")\n",
        "print(f\"Testing data: {X_test.shape}, {y_test.shape}\")"
      ],
      "metadata": {
        "colab": {
          "base_uri": "https://localhost:8080/"
        },
        "id": "Do0mE4L4l6o9",
        "outputId": "6b127e52-252f-438f-f33f-16549cab9d37"
      },
      "execution_count": 11,
      "outputs": [
        {
          "output_type": "stream",
          "name": "stdout",
          "text": [
            "Training data: (5, 1), (5,)\n",
            "Testing data: (2, 1), (2,)\n"
          ]
        }
      ]
    },
    {
      "cell_type": "markdown",
      "source": [
        "20% of the data should be allocated to the testing set, leaving the remaining 80% for training.\n",
        "\n",
        "Ensures that the data is split in the same way every time the code is run. This is important for reproducibility. By setting a specific number (like 42), you ensure that the random split is consistent across different runs."
      ],
      "metadata": {
        "id": "03T6xIh4o2mG"
      }
    },
    {
      "cell_type": "markdown",
      "source": [
        "## **Training the linear regression model**"
      ],
      "metadata": {
        "id": "0VSapyUkms3t"
      }
    },
    {
      "cell_type": "code",
      "source": [
        "# Initiallize the Linear Regression model\n",
        "model = LinearRegression()\n",
        "\n",
        "# Train the model on the training data\n",
        "model.fit(X_train, y_train)\n",
        "\n",
        "# Display the learned coefficients\n",
        "print(f\"Intercept: {model.intercept_}\")\n",
        "print(f\"Coefficient:\", model.coef_[0])\n",
        "\n",
        "# m is the coefficient (slope), and\n",
        "\n",
        "# b is the intercept (y-axis intercept)."
      ],
      "metadata": {
        "colab": {
          "base_uri": "https://localhost:8080/"
        },
        "id": "j6NfV68Hk0c4",
        "outputId": "7fc726eb-d958-463a-9c67-8985725ec604"
      },
      "execution_count": 12,
      "outputs": [
        {
          "output_type": "stream",
          "name": "stdout",
          "text": [
            "Intercept: -68611.5214180206\n",
            "Coefficient: 143.2791728212703\n"
          ]
        }
      ]
    },
    {
      "cell_type": "markdown",
      "source": [
        "## **Making predictions**"
      ],
      "metadata": {
        "id": "kWxCVC8xnvNL"
      }
    },
    {
      "cell_type": "code",
      "source": [
        "# Make prediction on the testing set\n",
        "y_pred = model.predict(X_test)\n",
        "\n",
        "# Display the first few predictions\n",
        "print(\"predicted Prices:\", y_pred[:5])\n",
        "print(\"Actual Prices:\", y_test[:5].values)"
      ],
      "metadata": {
        "colab": {
          "base_uri": "https://localhost:8080/"
        },
        "id": "cc9sh_nLnzHJ",
        "outputId": "11e25c22-23c7-4fd3-d4eb-5651fdf8d16e"
      },
      "execution_count": 15,
      "outputs": [
        {
          "output_type": "stream",
          "name": "stdout",
          "text": [
            "predicted Prices: [146307.23781388 189290.98966027]\n",
            "Actual Prices: [200000 250000]\n"
          ]
        }
      ]
    },
    {
      "cell_type": "markdown",
      "source": [
        "## **Evaluating the model**"
      ],
      "metadata": {
        "id": "9qBcwYquoUPF"
      }
    },
    {
      "cell_type": "code",
      "source": [
        "# Calculate Mean Squared Error\n",
        "mse = mean_squared_error(y_test, y_pred)\n",
        "\n",
        "# Calculate R-squared\n",
        "r2 = r2_score(y_test, y_pred)\n",
        "\n",
        "# Display the evaluation metrics\n",
        "print(f\"Mean Squared Error: {mse}\")\n",
        "print(f\"R-squared: {r2}\")"
      ],
      "metadata": {
        "colab": {
          "base_uri": "https://localhost:8080/"
        },
        "id": "aSpki4xKoYDw",
        "outputId": "52fa55b8-4699-4fbc-b091-450187967292"
      },
      "execution_count": 16,
      "outputs": [
        {
          "output_type": "stream",
          "name": "stdout",
          "text": [
            "Mean Squared Error: 3284248323.802326\n",
            "R-squared: -4.254797318083722\n"
          ]
        }
      ]
    },
    {
      "cell_type": "markdown",
      "source": [
        "MSE gives the average squared difference between the actual and predicted values (the lower, the better).\n",
        "\n",
        "R² tells you how well the model fits the data (1 means a perfect fit, while 0 indicates no fit)."
      ],
      "metadata": {
        "id": "wfi-Ht0HonU7"
      }
    },
    {
      "cell_type": "markdown",
      "source": [
        "## **Visualizing the results**"
      ],
      "metadata": {
        "id": "VaspHOB8o9nQ"
      }
    },
    {
      "cell_type": "code",
      "source": [
        "# Plot the data points\n",
        "plt.scatter(X_test, y_test, color='blue', label='Actual')\n",
        "\n",
        "# Plot the regression line\n",
        "plt.plot(X_test, y_pred, color='red', label='Regression Line')\n",
        "\n",
        "# Add labels and title\n",
        "plt.xlabel('Square Footage')\n",
        "plt.ylabel('Price')\n",
        "plt.title('House Prices vs. Square Footage')\n",
        "\n",
        "# Add legend\n",
        "plt.legend()\n",
        "\n",
        "# Show the plot\n",
        "plt.show()"
      ],
      "metadata": {
        "colab": {
          "base_uri": "https://localhost:8080/",
          "height": 472
        },
        "id": "NO5a8bpWpJ1u",
        "outputId": "aca26afe-4d7c-433c-f34f-e54889f2b555"
      },
      "execution_count": 18,
      "outputs": [
        {
          "output_type": "display_data",
          "data": {
            "text/plain": [
              "<Figure size 640x480 with 1 Axes>"
            ],
            "image/png": "[encoded data removed]"
          },
          "metadata": {}
        }
      ]
    },
    {
      "cell_type": "markdown",
      "source": [
        "Set up a linear regression model using Scikit-learn.\n",
        "\n",
        "Train the model on a dataset.\n",
        "\n",
        "Evaluate its performance using metrics such as MSE and R².\n",
        "\n",
        "Visualize the results to see how the model fits the data.\n",
        "\n",
        "Linear regression is a simple yet powerful tool for predicting continuous values, and it’s widely used in various industries to model relationships between variables. By following these steps, you can now apply linear regression to your own datasets and projects."
      ],
      "metadata": {
        "id": "eyPYIpPEpy0u"
      }
    }
  ]
}