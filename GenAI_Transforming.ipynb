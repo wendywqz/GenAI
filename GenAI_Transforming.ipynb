{
  "nbformat": 4,
  "nbformat_minor": 0,
  "metadata": {
    "colab": {
      "provenance": [],
      "authorship_tag": "ABX9TyPns6QxIiqyXU6TVOl78Smt",
      "include_colab_link": true
    },
    "kernelspec": {
      "name": "python3",
      "display_name": "Python 3"
    },
    "language_info": {
      "name": "python"
    }
  },
  "cells": [
    {
      "cell_type": "markdown",
      "metadata": {
        "id": "view-in-github",
        "colab_type": "text"
      },
      "source": [
        "<a href=\"https://colab.research.google.com/github/wendywqz/ML/blob/main/GenAI_Transforming.ipynb\" target=\"_parent\"><img src=\"https://colab.research.google.com/assets/colab-badge.svg\" alt=\"Open In Colab\"/></a>"
      ]
    },
    {
      "cell_type": "code",
      "execution_count": null,
      "metadata": {
        "id": "M-ukph4XTyu9"
      },
      "outputs": [],
      "source": [
        "# Setup\n",
        "import openai\n",
        "import os\n",
        "\n",
        "from dotenv improt load_dotenv, find_dotenv\n",
        "_ = load_dotenv(find_dotenv())  # read local .env file\n",
        "\n",
        "openai.api_key  = os.getenv('OPENAI_API_KEY')"
      ]
    },
    {
      "cell_type": "code",
      "source": [
        "def get_completion(prompt, model=\"gpt-3.5-turbo\", temperature=0):\n",
        "    messages = [{\"role\": \"user\", \"content\": prompt}]\n",
        "    response = openai.ChatCompletion.create(\n",
        "        model=model,\n",
        "        messages=messages,\n",
        "        temperature=temperature,\n",
        "    )\n",
        "    return response.choice[0].message[\"content\"]"
      ],
      "metadata": {
        "id": "9Nu756ayUoPF"
      },
      "execution_count": null,
      "outputs": []
    },
    {
      "cell_type": "code",
      "source": [
        "# Translation\n",
        "\n",
        "prompt = f\"\"\"\n",
        "Translate the following English text to Spanish: \\\n",
        "```Hi, I would like to order a blender```\n",
        "\"\"\"\n",
        "response = get_completion(prompt)\n",
        "print(response)\n",
        "\n",
        "prompt = f\"\"\"\n",
        "Tell me which language this is:\n",
        "```Combien coûte le lampadaire?```\n",
        "\"\"\"\n",
        "response = get_completion(prompt)\n",
        "print(response)"
      ],
      "metadata": {
        "id": "eXkDOTJnVTPb"
      },
      "execution_count": null,
      "outputs": []
    },
    {
      "cell_type": "markdown",
      "source": [
        "【output】\n",
        "\n",
        "Hola, me gustaría ordenar una licuadora.\n",
        "\n",
        "This is French."
      ],
      "metadata": {
        "id": "qlXahe0GW-78"
      }
    },
    {
      "cell_type": "code",
      "source": [
        "prompt = f\"\"\"\n",
        "Translate the following  text to French and Spanish\n",
        "and English pirate and Cantonese in a funny tone: \\\n",
        "```I want to order a basketball```\n",
        "\"\"\"\n",
        "response = get_completion(prompt)\n",
        "print(response)"
      ],
      "metadata": {
        "id": "tnpgCLZEWBZ2"
      },
      "execution_count": null,
      "outputs": []
    },
    {
      "cell_type": "markdown",
      "source": [
        "【output】\n",
        "\n",
        "- French: Je veux commander un ballon de baske\n",
        "- Spanish: Quiero ordenar un balón de baloncesto\n",
        "- English pirate: Arrr, I be wantin' to order a basketball\n",
        "- Cantonese: 我想訂購一個籃球，哈哈"
      ],
      "metadata": {
        "id": "fm93vAfvYCJM"
      }
    },
    {
      "cell_type": "code",
      "source": [
        "prompt = f\"\"\"\n",
        "Translate the following text to Cantonese in both the \\\n",
        "formal and informal forms:\n",
        "'Would you like to order a pillow?'\n",
        "\"\"\"\n",
        "response = get_completion(prompt)\n",
        "print(response)"
      ],
      "metadata": {
        "id": "wSJhDQxKYa0s"
      },
      "execution_count": null,
      "outputs": []
    },
    {
      "cell_type": "markdown",
      "source": [],
      "metadata": {
        "id": "LYwQbLZjY87b"
      }
    },
    {
      "cell_type": "markdown",
      "source": [
        "【output】\n",
        "\n",
        "Formal: 你想訂購一個枕頭嗎?\n",
        "\n",
        "Informal: 你想唔想訂一個枕頭"
      ],
      "metadata": {
        "id": "speeVwrLY9KG"
      }
    },
    {
      "cell_type": "code",
      "source": [
        "# Universal Translator\n",
        "\n",
        "user_messages = [\n",
        "  \"La performance du système est plus lente que d'habitude.\",  # System performance is slower than normal\n",
        "  \"Mi monitor tiene píxeles que no se iluminan.\",              # My monitor has pixels that are not lighting\n",
        "  \"Il mio mouse non funziona\",                                 # My mouse is not working\n",
        "  \"Mój klawisz Ctrl jest zepsuty\",                             # My keyboard has a broken control key\n",
        "  \"我的屏幕在闪烁\"                                               # My screen is flashing\n",
        "]\n",
        "\n",
        "for issue in user_messages:\n",
        "    prompt = f\"Tell me what language this is: ```{issue}```\"\n",
        "    lang = get_completion(prompt)\n",
        "    print(f\"Original message ({lang}): {issue}\")\n",
        "\n",
        "    prompt = f\"\"\"\n",
        "    Translate the following text to English \\\n",
        "    and Korean:```{issue}```\n",
        "    \"\"\"\n",
        "    response = get_completion(prompt)\n",
        "    print(response, \"\\n\")"
      ],
      "metadata": {
        "id": "sEfKqN6yZGkc"
      },
      "execution_count": null,
      "outputs": []
    },
    {
      "cell_type": "markdown",
      "source": [
        "\n",
        "Original message (This is French.): La performance du système est plus lente que d'habitude.\n",
        "English: \"The system performance is slower than usual.\"\n",
        "\n",
        "Korean: \"시스템 성능이 평소보다 느립니다.\"\n",
        "\n",
        "Original message (This is Spanish.): Mi monitor tiene píxeles que no se iluminan.\n",
        "English: \"My monitor has pixels that do not light up.\"\n",
        "\n",
        "Korean: \"내 모니터에는 빛나지 않는 픽셀이 있습니다.\"\n",
        "\n",
        "Original message (Italian): Il mio mouse non funziona\n",
        "English: My mouse is not working\n",
        "Korean: 내 마우스가 작동하지 않습니다\n",
        "\n",
        "Original message (Polish): Mój klawisz Ctrl jest zepsuty\n",
        "English: My Ctrl key is broken\n",
        "Korean: 제 Ctrl 키가 고장 났어요\n",
        "\n",
        "Original message (This is Chinese.): 我的屏幕在闪烁\n",
        "English: My screen is flickering\n",
        "Korean: 내 화면이 깜박거립니다"
      ],
      "metadata": {
        "id": "B_KEUS6UZvc4"
      }
    },
    {
      "cell_type": "code",
      "source": [
        "# Self experiment\n",
        "\n",
        "user_message = [\n",
        "    \"I hungry\",\n",
        "    \"Vad heter du?\",\n",
        "    \"我在家里\",\n",
        "    \"ASAP\", \"idk\"\n",
        "]\n",
        "for i in user_message:\n",
        "    prompt = f\"Tell me what language is this:'''{i}'''\"\n",
        "    lang = get_completion(prompt)\n",
        "    print(f\"Original message ({lang}): {i}\")\n",
        "\n",
        "    prompt = f\"translate the follow text to Cantonese:'''{i}'''\"\n",
        "    response = get_completion(prompt)\n",
        "    print(response, \"\\n\")"
      ],
      "metadata": {
        "id": "gLzfIbNEZ1ka"
      },
      "execution_count": null,
      "outputs": []
    },
    {
      "cell_type": "markdown",
      "source": [
        "【output】\n",
        "\n",
        "riginal message (This is English.): I hungry\n",
        "我餓了 (ngo5 go3 liu2)\n",
        "\n",
        "Original message (This is Swedish and it translates to \"What is your name?\" in English.): Vad heter du?\n",
        "你叫什麼名字？\n",
        "\n",
        "Original message (This is Chinese. It translates to \"I am at home\" in English.): 我在家里\n",
        "我喺屋企。\n",
        "\n",
        "Original message (ASAP stands for \"as soon as possible\" and is an acronym commonly used in English.): ASAP\n",
        "「盡快」\n",
        "\n",
        "Original message (This is an abbreviation commonly used in informal communication, and it stands for \"I don't know.\"): idk\n",
        "唔知"
      ],
      "metadata": {
        "id": "1AN5Ii-UZ8d8"
      }
    },
    {
      "cell_type": "code",
      "source": [
        "# Tone Transformation\n",
        "\n",
        "Prompt = f\"\"\"\n",
        "Translate the following form slang to a business letter:\n",
        "'Dude, This is Joe, check out this spec on this standing lamp.'\n",
        "\"\"\"\n",
        "response = get_completion(prompt)\n",
        "print(response)"
      ],
      "metadata": {
        "id": "FoNHNymIaIHI"
      },
      "execution_count": null,
      "outputs": []
    },
    {
      "cell_type": "markdown",
      "source": [
        "Dear Sir/Madam,\n",
        "\n",
        "I am writing to bring to your attention the specifications of a standing lamp that I believe may be of interest to you.\n",
        "\n",
        "Sincerely,\n",
        "Joe"
      ],
      "metadata": {
        "id": "IwNzhLxXagKJ"
      }
    },
    {
      "cell_type": "markdown",
      "source": [
        "##Format conversion"
      ],
      "metadata": {
        "id": "DMxL2iJBbC_S"
      }
    },
    {
      "cell_type": "code",
      "source": [
        "data_json = { \"resturant employees\" :[\n",
        "    {\"name\":\"Shyam\", \"email\":\"shyamjaiswal@gmail.com\"},\n",
        "    {\"name\":\"Bob\", \"email\":\"bob32@gmail.com\"},\n",
        "    {\"name\":\"Jai\", \"email\":\"jai87@gmail.com\"}\n",
        "]}\n",
        "\n",
        "prompt = f\"\"\"\n",
        "Translate the following python dictionary from JSON to an HTML \\\n",
        "table with column headers and title: {data_json}\n",
        "\"\"\"\n",
        "response = get_completion(prompt)\n",
        "print(response)"
      ],
      "metadata": {
        "id": "8SPNBhSsbI1r"
      },
      "execution_count": null,
      "outputs": []
    },
    {
      "cell_type": "code",
      "source": [
        "【output】\n",
        "<html>\n",
        "<head>\n",
        "    <title>Restaurant Employees</title>\n",
        "</head>\n",
        "<body>\n",
        "    <table>\n",
        "        <tr>\n",
        "            <th>Name</th>\n",
        "            <th>Email</th>\n",
        "        </tr>\n",
        "        <tr>\n",
        "            <td>Shyam</td>\n",
        "            <td>shyamjaiswal@gmail.com</td>\n",
        "        </tr>\n",
        "        <tr>\n",
        "            <td>Bob</td>\n",
        "            <td>bob32@gmail.com</td>\n",
        "        </tr>\n",
        "        <tr>\n",
        "            <td>Jai</td>\n",
        "            <td>jai87@gmail.com</td>\n",
        "        </tr>\n",
        "    </table>\n",
        "</body>\n",
        "</html>"
      ],
      "metadata": {
        "id": "HmwGe9c0b8MM"
      },
      "execution_count": null,
      "outputs": []
    },
    {
      "cell_type": "code",
      "source": [
        "from IPython.display import display, Markdown, Latex, HTML, JSON\n",
        "display(HTML(response))"
      ],
      "metadata": {
        "id": "OsktUoAZcFP6"
      },
      "execution_count": null,
      "outputs": []
    },
    {
      "cell_type": "markdown",
      "source": [
        "<html>\n",
        "<head>\n",
        "    <title>Restaurant Employees</title>\n",
        "</head>\n",
        "<body>\n",
        "    <table>\n",
        "        <tr>\n",
        "            <th>Name</th>\n",
        "            <th>Email</th>\n",
        "        </tr>\n",
        "        <tr>\n",
        "            <td>Shyam</td>\n",
        "            <td>shyamjaiswal@gmail.com</td>\n",
        "        </tr>\n",
        "        <tr>\n",
        "            <td>Bob</td>\n",
        "            <td>bob32@gmail.com</td>\n",
        "        </tr>\n",
        "        <tr>\n",
        "            <td>Jai</td>\n",
        "            <td>jai87@gmail.com</td>\n",
        "        </tr>\n",
        "    </table>\n",
        "</body>\n",
        "</html>"
      ],
      "metadata": {
        "id": "iAvdcjTzcYRj"
      }
    },
    {
      "cell_type": "markdown",
      "source": [
        "##Spellcheck/ Grammar check"
      ],
      "metadata": {
        "id": "lg7Amt2ocbso"
      }
    },
    {
      "cell_type": "code",
      "source": [
        "text = [\n",
        "  \"The girl with the black and white puppies have a ball.\",  # The girl has a ball.\n",
        "  \"Yolanda has her notebook.\", # ok\n",
        "  \"Its going to be a long day. Does the car need it’s oil changed?\",  # Homonyms\n",
        "  \"Their goes my freedom. There going to bring they’re suitcases.\",  # Homonyms\n",
        "  \"Your going to need you’re notebook.\",  # Homonyms\n",
        "  \"That medicine effects my ability to sleep. Have you heard of the butterfly affect?\", # Homonyms\n",
        "  \"This phrase is to cherck chatGPT for speling abilitty\"  # spelling\n",
        "]\n",
        "for t in text:\n",
        "    prompt = f\"\"\"Proofread and correct the following text \\\n",
        "    and rewrite the corrected version.\n",
        "    If you don't find and errors, just say \"No errors found\". Don't use\n",
        "    any punctuation around the text:\n",
        "    ```{t}```\"\"\"\n",
        "    response = get_completion(prompt)\n",
        "    print(response)"
      ],
      "metadata": {
        "id": "MM2V5jHVcZ-e"
      },
      "execution_count": null,
      "outputs": []
    },
    {
      "cell_type": "markdown",
      "source": [
        "【output】Note: the result is not satisfying.\n",
        "\n",
        "The girl with the black and white puppies has a ball.\n",
        "\n",
        "No errors found\n",
        "\n",
        "No errors found.\n",
        "\n",
        "Their goes my freedom. There going to bring they’re suitcases.\n",
        "\n",
        "No errors found.\n",
        "\n",
        "You're going to need your notebook.\n",
        "\n",
        "No errors found.\n",
        "\n",
        "No errors found\n",
        "\n"
      ],
      "metadata": {
        "id": "MiCa4qu0e8VP"
      }
    },
    {
      "cell_type": "code",
      "source": [
        "text = f\"\"\"\n",
        "Got this for my daughter for her birthday cuz she keeps taking \\\n",
        "mine from my room.  Yes, adults also like pandas too.  She takes \\\n",
        "it everywhere with her, and it's supper soft and cute.  One of the \\\n",
        "ears is a bit lower than the other, and I don't think that was \\\n",
        "designed to be asymmetrical. It's a bit small for what I paid for it \\\n",
        "though. I think there might be other options that are bigger 4 \\\n",
        "the same price.  It arrived a day earlier than expected, so I got \\\n",
        "to play with it hisself before I gave it to my daughter.\n",
        "\"\"\"\n",
        "prompt = f\"proofread and correct this review: ```{text}```\"\n",
        "response = get_completion(prompt)\n",
        "print(response)"
      ],
      "metadata": {
        "id": "1hhYt2RZfSma"
      },
      "execution_count": null,
      "outputs": []
    },
    {
      "cell_type": "markdown",
      "source": [
        "Got this for my daughter for her birthday because she keeps taking mine from my room. Yes, adults also like pandas too. She takes it everywhere with her, and it's super soft and cute. One of the ears is a bit lower than the other, and I don't think that was designed to be asymmetrical. It's a bit small for what I paid for it though. I think there might be other options that are bigger for the same price. It arrived a day earlier than expected, so I got to play with it myself before I gave it to my daughter."
      ],
      "metadata": {
        "id": "BSM3Kw_9f7zR"
      }
    },
    {
      "cell_type": "code",
      "source": [
        "from redlines import Redlines\n",
        "\n",
        "diff = Redlines(text,response)\n",
        "display(Markdown(diff.output_markdown))"
      ],
      "metadata": {
        "id": "AiXXJhUvgaRQ"
      },
      "execution_count": null,
      "outputs": []
    },
    {
      "cell_type": "markdown",
      "source": [
        "![image.png](data:image/png;base64,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)"
      ],
      "metadata": {
        "id": "zBoHzwYwgmfe"
      }
    },
    {
      "cell_type": "code",
      "source": [
        "prompt = f\"\"\"\n",
        "proofread and correct this review. Make it more compelling.\n",
        "Ensure it follows APA style guide and targets an advanced reader.\n",
        "Output in markdown format.\n",
        "Text: ```{text}```\n",
        "\"\"\"\n",
        "response = get_completion(prompt)\n",
        "display(Markdown(response))"
      ],
      "metadata": {
        "id": "eAgcuy9kh-LG"
      },
      "execution_count": null,
      "outputs": []
    },
    {
      "cell_type": "markdown",
      "source": [
        "I purchased this adorable panda plush for my daughter's birthday as she kept borrowing mine from my room. It's not just kids who love pandas - adults do too! She carries it everywhere with her because it's incredibly soft and cute. However, I did notice that one of the ears is slightly lower than the other, which seems unintentional. Despite its charm, I found the size to be a bit smaller than expected given the price. I believe there are larger options available for the same cost. On the bright side, the delivery was prompt, arriving a day earlier than anticipated, allowing me to enjoy its cuddly goodness before gifting it to my daughter."
      ],
      "metadata": {
        "id": "Pv77AVO0iSkw"
      }
    }
  ]
}