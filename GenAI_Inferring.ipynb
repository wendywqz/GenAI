{
  "nbformat": 4,
  "nbformat_minor": 0,
  "metadata": {
    "colab": {
      "provenance": [],
      "authorship_tag": "ABX9TyMfcWsRlLnECcPSXytCVsXD",
      "include_colab_link": true
    },
    "kernelspec": {
      "name": "python3",
      "display_name": "Python 3"
    },
    "language_info": {
      "name": "python"
    }
  },
  "cells": [
    {
      "cell_type": "markdown",
      "metadata": {
        "id": "view-in-github",
        "colab_type": "text"
      },
      "source": [
        "<a href=\"https://colab.research.google.com/github/wendywqz/ML/blob/main/GenAI_Inferring.ipynb\" target=\"_parent\"><img src=\"https://colab.research.google.com/assets/colab-badge.svg\" alt=\"Open In Colab\"/></a>"
      ]
    },
    {
      "cell_type": "code",
      "execution_count": null,
      "metadata": {
        "id": "nRiLAMZR9QUX"
      },
      "outputs": [],
      "source": [
        "# Setup\n",
        "\n",
        "import openai\n",
        "import os\n",
        "from dotenv import local_dotenv, find dotenv\n",
        "_ = local_dotenv(find_dotenv()) # read Local .env file\n",
        "\n",
        "openai.api_key = os.getenv(\"OPENAI_API_KEY\")"
      ]
    },
    {
      "cell_type": "code",
      "source": [
        "def get_completion(prompt, model=\"gpt-3.5-turbo\"):\n",
        "  messages = [{\"role\": \"user\", \"content\": prompt}]\n",
        "  response = openai.ChatCompletion.create(\n",
        "    model=model,\n",
        "    messages=messages,\n",
        "    temperature=0,  # this is the degree of randomness of the model's output\n",
        "  )\n",
        "  return response.choices[0].message[\"content\"]"
      ],
      "metadata": {
        "id": "tPbJ966g91LE"
      },
      "execution_count": null,
      "outputs": []
    },
    {
      "cell_type": "markdown",
      "source": [
        "#Product review text"
      ],
      "metadata": {
        "id": "8BY_MLHQ-Tjd"
      }
    },
    {
      "cell_type": "code",
      "source": [
        "lamp_review = \"\"\"\n",
        "Needed a nice lamp for my bedroom, and this one had \\\n",
        "additional storage and not too high of a price point. \\\n",
        "Got it fast.  The string to our lamp broke during the \\\n",
        "transit and the company happily sent over a new one. \\\n",
        "Came within a few days as well. It was easy to put \\\n",
        "together.  I had a missing part, so I contacted their \\\n",
        "support and they very quickly got me the missing piece! \\\n",
        "Lumina seems to me to be a great company that cares \\\n",
        "about their customers and products!!"
      ],
      "metadata": {
        "id": "1jzd-mKA-XzG"
      },
      "execution_count": null,
      "outputs": []
    },
    {
      "cell_type": "markdown",
      "source": [
        "#Sentiment (positive/negative)"
      ],
      "metadata": {
        "id": "zjo-FOax-bhq"
      }
    },
    {
      "cell_type": "code",
      "source": [
        "prompt = f\"\"\"\n",
        "What is the sentiment of the following product review,\n",
        "which is delimited with triple backticks?\n",
        "\n",
        "Review text: '''{lamp_review}'''\n",
        "\"\"\"\n",
        "response = get_completion(prompt)\n",
        "print(response)"
      ],
      "metadata": {
        "id": "6gEBDOH0-iid"
      },
      "execution_count": null,
      "outputs": []
    },
    {
      "cell_type": "markdown",
      "source": [
        "【Output】\n",
        "\n",
        "The sentiment of the review is positive. The reviewer is satisfied with the lamp they purchased, mentioning the additional storage, reasonable price, fast delivery, good customer service, and ease of assembly. They also praise the company for caring about their customers and products."
      ],
      "metadata": {
        "id": "zdA-0oej-qwY"
      }
    },
    {
      "cell_type": "code",
      "source": [
        "prompt = f\"\"\"\n",
        "What is the sentiment of the following product review,\n",
        "which is delimited with triple backticks?\n",
        "\n",
        "Give your answer as a single word, either \"positive\" \\\n",
        "or \"negative\".\n",
        "\n",
        "Review text: '''{lamp_review}'''\n",
        "\"\"\"\n",
        "response = get_completion(prompt)\n",
        "print(response)\n",
        "\n",
        "# Then the output is 'Positive'"
      ],
      "metadata": {
        "id": "BGvlzfXb-9D6"
      },
      "execution_count": null,
      "outputs": []
    },
    {
      "cell_type": "markdown",
      "source": [
        "#Identify types of emotions"
      ],
      "metadata": {
        "id": "CxE6u9ik_JCV"
      }
    },
    {
      "cell_type": "code",
      "source": [
        "prompt = f\"\"\"\n",
        "Identify a list of emotions that the writer of the \\\n",
        "following review is expressing. Include no more than \\\n",
        "five items in the list. Format your answer as a list of \\\n",
        "lower-case words separated by commas.\n",
        "\n",
        "Review text: '''{lamp_review}'''\n",
        "\"\"\"\n",
        "response = get_completion(prompt)\n",
        "print(response)\n",
        "\n",
        "# by adding additional prompt: Justify the reasons why you leverage such words."
      ],
      "metadata": {
        "id": "TC9QU5uF_Nki"
      },
      "execution_count": null,
      "outputs": []
    },
    {
      "cell_type": "markdown",
      "source": [
        "【Output 1】happy, satisfied, grateful, impressed, content\n",
        "\n",
        "【Output 2】happy, satisfied, grateful, impressed, content\n",
        "\n",
        "The writer expresses happiness and satisfaction with the lamp they purchased, as well as gratitude towards the company for their quick response to issues. They are impressed with the customer service and overall content with their experience."
      ],
      "metadata": {
        "id": "dQjn0Ppz_bcp"
      }
    },
    {
      "cell_type": "markdown",
      "source": [
        "#Identify anger"
      ],
      "metadata": {
        "id": "0Oi7izjGArFP"
      }
    },
    {
      "cell_type": "code",
      "source": [
        "prompt = f\"\"\"\n",
        "Is the writer of the following review expressing anger?\\\n",
        "The review is delimited with triple backticks. \\\n",
        "Give your answer as either yes or no.\n",
        "\n",
        "Review text: '''{lamp_review}'''\n",
        "\"\"\"\n",
        "response = get_completion(prompt)\n",
        "print(response)\n",
        "\n",
        "# Output is 'No'."
      ],
      "metadata": {
        "id": "3pBJX_b7AvJ8"
      },
      "execution_count": null,
      "outputs": []
    },
    {
      "cell_type": "markdown",
      "source": [
        "# Extract product and company name from customer reviews"
      ],
      "metadata": {
        "id": "nSRCcK7KA6WQ"
      }
    },
    {
      "cell_type": "code",
      "source": [
        "prompt = f\"\"\"\n",
        "Identify the following items from the review text:\n",
        "- Item purchased by reviewer\n",
        "- Company that made the item\n",
        "\n",
        "The review is delimited with triple backticks. \\\n",
        "Format your response as a JSON object with \\\n",
        "\"Item\" and \"Brand\" as the keys.\n",
        "If the information isn't present, use \"unknown\" \\\n",
        "as the value.\n",
        "Make your response as short as possible.\n",
        "\n",
        "Review text: '''{lamp_review}'''\n",
        "\"\"\"\n",
        "response = get_completion(prompt)\n",
        "print(response)"
      ],
      "metadata": {
        "id": "zSjiZzpsA_rp"
      },
      "execution_count": null,
      "outputs": []
    },
    {
      "cell_type": "markdown",
      "source": [
        "【Output】\n",
        "\n",
        "{\n",
        "  \"Item\": \"lamp\",\n",
        "  \n",
        "  \"Brand\": \"Lumina\"\n",
        "}"
      ],
      "metadata": {
        "id": "Yf3WRRcXBNlM"
      }
    },
    {
      "cell_type": "markdown",
      "source": [
        "# Doing multiple tasks at once"
      ],
      "metadata": {
        "id": "wkcBDniMBYLw"
      }
    },
    {
      "cell_type": "code",
      "source": [
        "prompt = f\"\"\"\n",
        "Identify the following items from the review text:\n",
        "- Sentiment (positive or negative)\n",
        "- Is the reviewer expressing anger? (true or false)\n",
        "- Item purchased by reviewer\n",
        "- Company that made the item\n",
        "\n",
        "The review is delimited with triple backticks. \\\n",
        "Format your response as a JSON object with \\\n",
        "\"Sentiment\", \"Anger\", \"Item\" and \"Brand\" as the keys.\n",
        "If the information isn't present, use \"unknown\" \\\n",
        "as the value.\n",
        "Make your response as short as possible.\n",
        "Format the Anger value as a boolean.\n",
        "\n",
        "Review text: '''{lamp_review}'''\n",
        "\"\"\"\n",
        "response = get_completion(prompt)\n",
        "print(response)"
      ],
      "metadata": {
        "id": "5KDeEWdhBci4"
      },
      "execution_count": null,
      "outputs": []
    },
    {
      "cell_type": "markdown",
      "source": [
        "【Output】\n",
        "\n",
        "\n",
        "{\n",
        "    \"Sentiment\": \"positive\",\n",
        "    \"Anger\": false,\n",
        "    \"Item\": \"lamp\",\n",
        "    \"Brand\": \"Lumina\"\n",
        "}"
      ],
      "metadata": {
        "id": "MJfGT8PJBpq8"
      }
    },
    {
      "cell_type": "markdown",
      "source": [
        "#Infer 5 topics"
      ],
      "metadata": {
        "id": "E4MDKVzkCKLw"
      }
    },
    {
      "cell_type": "code",
      "source": [
        "story = \"\"\"\n",
        "In a recent survey conducted by the government,\n",
        "public sector employees were asked to rate their level\n",
        "of satisfaction with the department they work at.\n",
        "The results revealed that NASA was the most popular\n",
        "department with a satisfaction rating of 95%.\n",
        "\n",
        "One NASA employee, John Smith, commented on the findings,\n",
        "stating, \"I'm not surprised that NASA came out on top.\n",
        "It's a great place to work with amazing people and\n",
        "incredible opportunities. I'm proud to be a part of\n",
        "such an innovative organization.\"\n",
        "\n",
        "The results were also welcomed by NASA's management team,\n",
        "with Director Tom Johnson stating, \"We are thrilled to\n",
        "hear that our employees are satisfied with their work at NASA.\n",
        "We have a talented and dedicated team who work tirelessly\n",
        "to achieve our goals, and it's fantastic to see that their\n",
        "hard work is paying off.\"\n",
        "\n",
        "The survey also revealed that the\n",
        "Social Security Administration had the lowest satisfaction\n",
        "rating, with only 45% of employees indicating they were\n",
        "satisfied with their job. The government has pledged to\n",
        "address the concerns raised by employees in the survey and\n",
        "work towards improving job satisfaction across all departments.\n",
        "\"\"\""
      ],
      "metadata": {
        "id": "-N4yuRhVCQMD"
      },
      "execution_count": null,
      "outputs": []
    },
    {
      "cell_type": "code",
      "source": [
        "prompt = f\"\"\"\n",
        "Determine five topics that are being discussed in the \\\n",
        "following text, which is delimited by triple backticks.\n",
        "\n",
        "Make each item one or two words long.\n",
        "\n",
        "Format your response as a list of items separated by commas.\n",
        "\n",
        "Text sample: '''{story}'''\n",
        "\"\"\"\n",
        "response = get_completion(prompt)\n",
        "print(response)"
      ],
      "metadata": {
        "id": "S-x-UxyJCSw7"
      },
      "execution_count": null,
      "outputs": []
    },
    {
      "cell_type": "markdown",
      "source": [
        "【Output】\n",
        "\n",
        "1. Survey\n",
        "2. Job satisfaction\n",
        "3. NASA\n",
        "4. Social Security Administration\n",
        "5. Government pledge"
      ],
      "metadata": {
        "id": "JLdrAwb8CaHh"
      }
    },
    {
      "cell_type": "code",
      "source": [
        "response.split(sep=',')"
      ],
      "metadata": {
        "id": "IWzN7Da0CxPw"
      },
      "execution_count": null,
      "outputs": []
    },
    {
      "cell_type": "markdown",
      "source": [
        "【Output】\n",
        "\n",
        "\n",
        "['1. Survey\\n2. Job satisfaction\\n3. NASA\\n4. Social Security Administration\\n5. Government pledge']"
      ],
      "metadata": {
        "id": "PrbSpe5vC3c7"
      }
    },
    {
      "cell_type": "code",
      "source": [
        "topic_list = [\n",
        "    \"nasa\", \"local government\", \"engineeering\", \"employee satisfaction\", \"federal government\n",
        "]"
      ],
      "metadata": {
        "id": "E10fRPFFC_Tz"
      },
      "execution_count": null,
      "outputs": []
    },
    {
      "cell_type": "markdown",
      "source": [
        "#Make a news alert for certain topics"
      ],
      "metadata": {
        "id": "bCyVCG01DRjZ"
      }
    },
    {
      "cell_type": "code",
      "source": [
        "promt = f\"\"\"\n",
        "Determine whether each item in the following list of \\\n",
        "topics is a topic in the text below, which\n",
        "is delimited with triple backticks.\n",
        "\n",
        "Give your answers as follows:\n",
        "item from the list: 0 or 1\n",
        "\n",
        "List of topics: {\",\".join(topic_list)}\n",
        "\n",
        "Text sample: '''{story}'''\n",
        "\"\"\"\n",
        "response = get_completion(prompt)\n",
        "print(response)"
      ],
      "metadata": {
        "id": "WJCN_wswDWho"
      },
      "execution_count": null,
      "outputs": []
    },
    {
      "cell_type": "markdown",
      "source": [
        "【Output】\n",
        "\n",
        "nasa: 1\n",
        "\n",
        "local government: 0\n",
        "\n",
        "engineering: 0\n",
        "\n",
        "employee satisfaction: 1\n",
        "\n",
        "federal government: 1"
      ],
      "metadata": {
        "id": "wFLyoiHWEhOf"
      }
    },
    {
      "cell_type": "code",
      "source": [
        "topic_dict = {i.split(': ')[0]: int(i.split(': ')[1]) for i in response.split(sep='\\n')}\n",
        "if topic_dict['nasa'] == 1:\n",
        "    print(\"ALERT: New NASA story!\")"
      ],
      "metadata": {
        "id": "S8-pTNdvE9tx"
      },
      "execution_count": null,
      "outputs": []
    },
    {
      "cell_type": "markdown",
      "source": [
        "\n",
        "ALERT: New NASA story!"
      ],
      "metadata": {
        "id": "ru5O4zWKE-xr"
      }
    },
    {
      "cell_type": "markdown",
      "source": [
        "#Web text retrieval"
      ],
      "metadata": {
        "id": "J4vjw-G_QNuG"
      }
    },
    {
      "cell_type": "code",
      "source": [
        "import requests\n",
        "from bs4 import BeautifulSoup\n",
        "\n",
        "# Step 1: Fetch the web page\n",
        "url = \"https://www.npr.org/2025/01/23/nx-s1-5259822/u-s-colleges-saw-enrollment-rise-last-fall\"  # Replace with the actual URL\n",
        "response = requests.get(url)\n",
        "\n",
        "# Step 2: Parse the HTML content\n",
        "soup = BeautifulSoup(response.content, \"html.parser\")\n",
        "\n",
        "reviews = []\n",
        "for review in soup.find_all(\"div\", class_=\"review-text\"):\n",
        "    reviews.append(review.get_text(strip=True))  # Extract and clean the text\n",
        "\n",
        "print (reviews)\n",
        "\n",
        "# NOTE! The result is a empty blanket\n"
      ],
      "metadata": {
        "colab": {
          "base_uri": "https://localhost:8080/"
        },
        "id": "YKfudrVjG3wV",
        "outputId": "3b404632-a14c-4f2a-c20c-b9ecd0ccae8d"
      },
      "execution_count": 3,
      "outputs": [
        {
          "output_type": "stream",
          "name": "stdout",
          "text": [
            "[]\n"
          ]
        }
      ]
    },
    {
      "cell_type": "code",
      "source": [
        "# The codes above mainly retrive the div class review-text.\n",
        "# However, the page does not have reivews in that class. So, the list is empty.\n",
        "\n",
        "import requests\n",
        "from bs4 import BeautifulSoup\n",
        "\n",
        "# Step 1: Fetch the web page\n",
        "url = \"https://www.npr.org/2025/01/23/nx-s1-5259822/u-s-colleges-saw-enrollment-rise-last-fall\"  # Replace with the actual URL\n",
        "response = requests.get(url)\n",
        "\n",
        "# Step 2: Parse the HTML content\n",
        "soup = BeautifulSoup(response.content, \"html.parser\")\n",
        "\n",
        "# Step 3: Extract article content\n",
        "article_content = []\n",
        "for paragraph in soup.find_all(\"p\"):  # <p> tags often contain the body text\n",
        "    article_content.append(paragraph.get_text(strip=True))\n",
        "\n",
        "# Step 4: Print the extracted content\n",
        "print(article_content)\n"
      ],
      "metadata": {
        "id": "cKnfLbnKLjtt"
      },
      "execution_count": null,
      "outputs": []
    },
    {
      "cell_type": "markdown",
      "source": [
        "【Output】\n",
        "\n",
        "['Elissa Nadworny', 'Students walk across the campus of the University of Maryland. A new round of data shows that college enrollment in the U.S. has surpassed pre-pandemic levels.The Washington Post/via Getty Imageshide caption', 'College enrollment in the U.S. rose for the first time last fall to surpass pre-pandemic levels, new figures out today show.', 'Across undergraduate and graduate programs, total enrollment rose 4.5 percent, or 817,000 students, according to the National Student Clearinghouse Research Center.', \"The numbers provided welcome news to colleges worried about the Biden administration'sbotched revampof the federal student aid application known as FAFSA, and reports showing many Americans questioning thevalue of a college degree.\", 'Among the incoming freshman class in the fall of 2024, enrollment increased 5.5 percent, or 130,000 students, the data shows.', 'The growth among freshmen \"is driven by older first-year students, as 18-year-olds are still below their 2019 numbers,\" Doug Shapiro, the center\\'s executive director, said in a statement.', 'The research center also corrected an error in data released last fall that mistakenly showed freshman enrollment had declined, Shapiro said.', 'The latest figures are a relief to higher education experts worried about a looming\"demographic cliff\"expected to bring enrollment declines in coming years. That could mean trouble for colleges in terms of lost revenue, and trouble for the economy by creating shortages of educated graduates.', '\"The fact that students are both seeing the value in college and enrolling, I think, is really great news,\" said Tolani Birtton, an associate professor at the University of California, Berkeley, who studies higher education.', 'In the past few years of enrollment drops, many in higher education were asking the question, \"Will it ever recover?\" Britton said. \"And what we\\'ve seen is the answer to that in some ways is yes.\"', 'A particular bright spot in the new figures was at community colleges, which saw the biggestenrollment declines during the pandemic. Freshman enrollment at community colleges rose 7.1 percent last fall, while their overall enrollment rose 5.9 percent, or 325,000 students.', 'The positive trend across higher education is important because the U.S. economy is expected to create many more jobs \"needing some type of credential to be able to do those jobs adequately,\" said Nicole Smith, a research professor and chief economist at the Georgetown University Center on Education and the Workforce.', \"It's not just the lack of workers with credentials, Smith added. She worries about upcoming labor shortages due to retirements,especially in trade jobs. More students seeking degrees or certifications could help fill gaps across the labor market.\", '\"We are hoping that by increasing enrollment that a number of people will be better prepared to take those jobs in the future.\"', 'Sponsor Message', 'Become an NPR sponsor']"
      ],
      "metadata": {
        "id": "RxEzJm0jMHxN"
      }
    },
    {
      "cell_type": "code",
      "source": [
        "prompt = f\"\"\"\n",
        "Determine five topics that are being discussed in the \\\n",
        "following text, which is delimited by triple backticks.\n",
        "\n",
        "Make each item one or two words long.\n",
        "\n",
        "Format your response as a list of items separated by commas.\n",
        "\n",
        "Text sample: '''{article_content}'''\n",
        "\"\"\"\n",
        "response = get_completion(prompt)\n",
        "print(response)"
      ],
      "metadata": {
        "id": "weM9nMXDMLE1"
      },
      "execution_count": null,
      "outputs": []
    },
    {
      "cell_type": "markdown",
      "source": [
        "- College enrollment\n",
        "- Freshman enrollment\n",
        "- Higher education\n",
        "- Demographic cliff\n",
        "- Labor shortages"
      ],
      "metadata": {
        "id": "KwghZ6pFMPpt"
      }
    },
    {
      "cell_type": "code",
      "source": [
        "reponse.split(sep=',')"
      ],
      "metadata": {
        "id": "ApZPvzg_OzRF"
      },
      "execution_count": null,
      "outputs": []
    },
    {
      "cell_type": "markdown",
      "source": [
        "Output\n",
        "\n",
        "['- College enrollment\\n- Freshman enrollment\\n- Higher education\\n- Demographic cliff\\n- Labor shortages']"
      ],
      "metadata": {
        "id": "fAH4iLmgO4vR"
      }
    },
    {
      "cell_type": "code",
      "source": [
        "# Set the target topics in the list, NOTE: even some topic words are incompleted,\n",
        "# ChatGPT can complete the missing letters\n",
        "\n",
        "topic_list = [\n",
        "    \"higher education\", \"local Labor\", \"engineering\",\n",
        "    \"atisfaction employee \", \"ederal government\"\n",
        "]"
      ],
      "metadata": {
        "id": "UzxWJyqQPBS6"
      },
      "execution_count": null,
      "outputs": []
    },
    {
      "cell_type": "code",
      "source": [
        "prompt = f\"\"\"\n",
        "Determine whether each item in the following list of \\\n",
        "topics is a topic in the text below, which\n",
        "is delimited with triple backticks.\n",
        "\n",
        "Give your answer as follows:\n",
        "item from the list: 0 or 1\n",
        "\n",
        "List of topics: {\", \".join(topic_list)}\n",
        "\n",
        "Text sample: '''{article_content}'''\n",
        "\"\"\"\n",
        "response = get_completion(prompt)\n",
        "print(response)"
      ],
      "metadata": {
        "id": "gZNuPTMhPfBM"
      },
      "execution_count": null,
      "outputs": []
    },
    {
      "cell_type": "markdown",
      "source": [
        "Output\n",
        "\n",
        "\n",
        "- item from the list: 1\n",
        "- higher education: 1\n",
        "- local Labor: 0\n",
        "- engineering: 0\n",
        "- satisfaction employee: 0\n",
        "- federal government: 1"
      ],
      "metadata": {
        "id": "ANCihPA7PdOJ"
      }
    }
  ]
}